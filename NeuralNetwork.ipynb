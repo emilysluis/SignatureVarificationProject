{
 "cells": [
  {
   "cell_type": "code",
   "execution_count": 2,
   "metadata": {
    "collapsed": true
   },
   "outputs": [],
   "source": [
    "# This should be roughly the content of the first code cell\n",
    "import numpy as np\n",
    "import random\n",
    "np.random.seed(1337)\n",
    "random.seed(1337)\n",
    "\n",
    "# Plotting support\n",
    "from matplotlib import pyplot as plt\n",
    "# from plotnine import\n",
    "# Standard libraries\n",
    "import pandas as pd\n",
    "import sklearn as sk\n",
    "import tensorflow as tf\n",
    "import time\n",
    "import os\n",
    "from skimage import io\n",
    "import cv2\n",
    "from scipy import stats\n",
    "from skimage.util import compare_images\n",
    "from PIL import Image\n",
    "from skimage.metrics import mean_squared_error, structural_similarity, hausdorff_distance, normalized_root_mse, peak_signal_noise_ratio\n",
    "plt.rc('image', cmap='gray')\n",
    "\n"
   ]
  },
  {
   "cell_type": "code",
   "execution_count": 3,
   "outputs": [],
   "source": [
    "table1 = np.load('training/feature_table1.npy')\n",
    "table2 = np.load('training/feature_table2.npy')\n",
    "table3 = np.load('training/feature_table3.npy')\n",
    "table4 = np.load('training/feature_table4.npy')\n",
    "table6 = np.load('training/feature_table6.npy')\n",
    "table9 = np.load('training/feature_table9.npy')\n",
    "table12 = np.load('training/feature_table12.npy')\n",
    "table14 = np.load('training/feature_table14.npy')\n",
    "table15 = np.load('training/feature_table15.npy')\n",
    "table16 = np.load('training/feature_table16.npy')"
   ],
   "metadata": {
    "collapsed": false,
    "pycharm": {
     "name": "#%%\n"
    }
   }
  },
  {
   "cell_type": "code",
   "execution_count": 4,
   "outputs": [],
   "source": [
    "full_table = np.vstack((table1, table2, table3, table4, table6, table9, table12, table14, table15, table16))"
   ],
   "metadata": {
    "collapsed": false,
    "pycharm": {
     "name": "#%%\n"
    }
   }
  },
  {
   "cell_type": "code",
   "execution_count": 5,
   "outputs": [],
   "source": [
    "from sklearn.neural_network import MLPClassifier\n",
    "from sklearn.datasets import make_classification\n",
    "from sklearn.model_selection import train_test_split"
   ],
   "metadata": {
    "collapsed": false,
    "pycharm": {
     "name": "#%%\n"
    }
   }
  },
  {
   "cell_type": "code",
   "execution_count": 6,
   "outputs": [],
   "source": [
    "X = np.array(full_table[:, 1:-1], dtype=float)\n",
    "y = [1 if i == 'True' else 0 for i in full_table[:, -1] ]"
   ],
   "metadata": {
    "collapsed": false,
    "pycharm": {
     "name": "#%%\n"
    }
   }
  },
  {
   "cell_type": "code",
   "execution_count": 15,
   "outputs": [],
   "source": [
    "X_train, X_test, y_train, y_test = train_test_split(X, y, stratify=y, random_state=1)\n",
    "clf = MLPClassifier(random_state=1, max_iter=300).fit(X_train, y_train)"
   ],
   "metadata": {
    "collapsed": false,
    "pycharm": {
     "name": "#%%\n"
    }
   }
  },
  {
   "cell_type": "code",
   "execution_count": 73,
   "outputs": [
    {
     "data": {
      "text/plain": "array([[6.03641488e-03, 9.93963585e-01],\n       [8.88178420e-16, 1.00000000e+00],\n       [7.25096144e-01, 2.74903856e-01],\n       [0.00000000e+00, 1.00000000e+00],\n       [8.67503955e-01, 1.32496045e-01]])"
     },
     "execution_count": 73,
     "metadata": {},
     "output_type": "execute_result"
    }
   ],
   "source": [
    "clf.predict_proba(X_train[:5])"
   ],
   "metadata": {
    "collapsed": false,
    "pycharm": {
     "name": "#%%\n"
    }
   }
  },
  {
   "cell_type": "code",
   "execution_count": 74,
   "outputs": [
    {
     "data": {
      "text/plain": "[1, 1, 0, 0, 1]"
     },
     "execution_count": 74,
     "metadata": {},
     "output_type": "execute_result"
    }
   ],
   "source": [
    "y_train[:5]\n"
   ],
   "metadata": {
    "collapsed": false,
    "pycharm": {
     "name": "#%%\n"
    }
   }
  },
  {
   "cell_type": "code",
   "execution_count": 75,
   "outputs": [
    {
     "data": {
      "text/plain": "array([1, 1, 0, 1, 0])"
     },
     "execution_count": 75,
     "metadata": {},
     "output_type": "execute_result"
    }
   ],
   "source": [
    "clf.predict(X_train[:5])\n"
   ],
   "metadata": {
    "collapsed": false,
    "pycharm": {
     "name": "#%%\n"
    }
   }
  },
  {
   "cell_type": "code",
   "execution_count": 16,
   "outputs": [
    {
     "data": {
      "text/plain": "0.6711330512458862"
     },
     "execution_count": 16,
     "metadata": {},
     "output_type": "execute_result"
    }
   ],
   "source": [
    "clf.score(X_train,y_train)"
   ],
   "metadata": {
    "collapsed": false,
    "pycharm": {
     "name": "#%%\n"
    }
   }
  },
  {
   "cell_type": "code",
   "execution_count": 13,
   "outputs": [
    {
     "data": {
      "text/plain": "0.6863988724453841"
     },
     "execution_count": 13,
     "metadata": {},
     "output_type": "execute_result"
    }
   ],
   "source": [
    "clf.score(X_test, y_test)"
   ],
   "metadata": {
    "collapsed": false,
    "pycharm": {
     "name": "#%%\n"
    }
   }
  },
  {
   "cell_type": "code",
   "execution_count": 8,
   "outputs": [],
   "source": [
    "from sklearn.linear_model import SGDClassifier"
   ],
   "metadata": {
    "collapsed": false,
    "pycharm": {
     "name": "#%%\n"
    }
   }
  },
  {
   "cell_type": "code",
   "execution_count": 18,
   "outputs": [
    {
     "data": {
      "text/plain": "SGDClassifier(random_state=42)"
     },
     "execution_count": 18,
     "metadata": {},
     "output_type": "execute_result"
    }
   ],
   "source": [
    "sgd_clf = SGDClassifier(random_state=42, max_iter=1000, tol=1e-3)\n",
    "sgd_clf.fit(X_train, y_train)"
   ],
   "metadata": {
    "collapsed": false,
    "pycharm": {
     "name": "#%%\n"
    }
   }
  },
  {
   "cell_type": "code",
   "execution_count": 19,
   "outputs": [
    {
     "data": {
      "text/plain": "0.4412317818523742"
     },
     "execution_count": 19,
     "metadata": {},
     "output_type": "execute_result"
    }
   ],
   "source": [
    "sgd_clf.score(X_train, y_train)"
   ],
   "metadata": {
    "collapsed": false,
    "pycharm": {
     "name": "#%%\n"
    }
   }
  },
  {
   "cell_type": "code",
   "execution_count": 20,
   "outputs": [
    {
     "data": {
      "text/plain": "0.4439746300211416"
     },
     "execution_count": 20,
     "metadata": {},
     "output_type": "execute_result"
    }
   ],
   "source": [
    "sgd_clf.score(X_test, y_test)"
   ],
   "metadata": {
    "collapsed": false,
    "pycharm": {
     "name": "#%%\n"
    }
   }
  },
  {
   "cell_type": "code",
   "execution_count": 82,
   "outputs": [],
   "source": [
    "\n",
    "test1 = np.load('testing/test1_table.npy')"
   ],
   "metadata": {
    "collapsed": false,
    "pycharm": {
     "name": "#%%\n"
    }
   }
  },
  {
   "cell_type": "code",
   "execution_count": 28,
   "outputs": [],
   "source": [],
   "metadata": {
    "collapsed": false,
    "pycharm": {
     "name": "#%%\n"
    }
   }
  },
  {
   "cell_type": "code",
   "execution_count": 84,
   "outputs": [
    {
     "data": {
      "text/plain": "array([0, 0, 0, 0, 0, 0, 0, 0, 0, 0, 0, 0])"
     },
     "execution_count": 84,
     "metadata": {},
     "output_type": "execute_result"
    }
   ],
   "source": [
    "res = sgd_clf.predict(test1)\n",
    "res"
   ],
   "metadata": {
    "collapsed": false,
    "pycharm": {
     "name": "#%%\n"
    }
   }
  },
  {
   "cell_type": "code",
   "execution_count": 46,
   "outputs": [
    {
     "data": {
      "text/plain": "(array(['False'], dtype='<U5'), array([12]))"
     },
     "execution_count": 46,
     "metadata": {},
     "output_type": "execute_result"
    }
   ],
   "source": [
    "np.unique(res, return_counts=True)"
   ],
   "metadata": {
    "collapsed": false,
    "pycharm": {
     "name": "#%%\n"
    }
   }
  },
  {
   "cell_type": "code",
   "execution_count": 22,
   "outputs": [],
   "source": [
    "test2 = np.load('testing/test013.npy', allow_pickle=True)"
   ],
   "metadata": {
    "collapsed": false,
    "pycharm": {
     "name": "#%%\n"
    }
   }
  },
  {
   "cell_type": "code",
   "execution_count": 27,
   "outputs": [
    {
     "name": "stdout",
     "output_type": "stream",
     "text": [
      "-------\n",
      "[0 0 0 0 0 1 0 0 0 0 0 0]\n",
      "likelihood genuine:  8 %\n",
      "likelihood forged:  92 %\n",
      "truth  0\n",
      "-------\n",
      "[1 0 1 1 1 0 1 1 1 0 1 1]\n",
      "likelihood genuine:  75 %\n",
      "likelihood forged:  25 %\n",
      "truth  1\n",
      "-------\n",
      "[1 0 0 0 0 1 1 0 1 0 0 1]\n",
      "likelihood genuine:  42 %\n",
      "likelihood forged:  58 %\n",
      "truth  0\n",
      "-------\n",
      "[0 0 0 0 1 0 1 0 0 1 0 0]\n",
      "likelihood genuine:  25 %\n",
      "likelihood forged:  75 %\n",
      "truth  1\n",
      "-------\n",
      "[0 0 1 1 0 0 0 1 1 0 1 0]\n",
      "likelihood genuine:  42 %\n",
      "likelihood forged:  58 %\n",
      "truth  1\n",
      "-------\n",
      "[1 1 0 1 1 1 1 0 0 1 0 0]\n",
      "likelihood genuine:  58 %\n",
      "likelihood forged:  42 %\n",
      "truth  0\n",
      "-------\n",
      "[0 0 1 1 0 0 0 1 1 0 1 1]\n",
      "likelihood genuine:  50 %\n",
      "likelihood forged:  50 %\n",
      "truth  0\n",
      "-------\n",
      "[0 0 1 1 0 0 0 1 1 0 0 1]\n",
      "likelihood genuine:  42 %\n",
      "likelihood forged:  58 %\n",
      "truth  1\n",
      "-------\n",
      "[1 1 0 0 1 1 1 1 0 1 1 1]\n",
      "likelihood genuine:  75 %\n",
      "likelihood forged:  25 %\n",
      "truth  1\n",
      "-------\n",
      "[1 0 0 1 1 1 1 1 1 1 1 1]\n",
      "likelihood genuine:  83 %\n",
      "likelihood forged:  17 %\n",
      "truth  1\n",
      "-------\n",
      "[1 1 0 1 1 1 0 1 0 0 0 0]\n",
      "likelihood genuine:  50 %\n",
      "likelihood forged:  50 %\n",
      "truth  1\n",
      "-------\n",
      "[1 0 0 0 1 1 1 1 1 1 1 1]\n",
      "likelihood genuine:  75 %\n",
      "likelihood forged:  25 %\n",
      "truth  0\n",
      "-------\n",
      "[0 0 0 1 0 0 1 0 0 0 1 0]\n",
      "likelihood genuine:  25 %\n",
      "likelihood forged:  75 %\n",
      "truth  1\n",
      "-------\n",
      "[1 0 0 1 1 1 1 0 1 0 1 1]\n",
      "likelihood genuine:  67 %\n",
      "likelihood forged:  33 %\n",
      "truth  0\n",
      "-------\n",
      "[1 1 0 0 0 1 0 0 0 1 0 0]\n",
      "likelihood genuine:  33 %\n",
      "likelihood forged:  67 %\n",
      "truth  0\n",
      "-------\n",
      "[0 0 0 0 1 1 1 0 0 1 1 1]\n",
      "likelihood genuine:  50 %\n",
      "likelihood forged:  50 %\n",
      "truth  1\n",
      "-------\n",
      "[1 0 0 1 1 1 1 1 1 1 1 1]\n",
      "likelihood genuine:  83 %\n",
      "likelihood forged:  17 %\n",
      "truth  1\n",
      "-------\n",
      "[1 1 0 0 1 1 0 0 0 0 0 0]\n",
      "likelihood genuine:  33 %\n",
      "likelihood forged:  67 %\n",
      "truth  0\n",
      "-------\n",
      "[1 1 0 0 1 1 1 0 0 1 0 0]\n",
      "likelihood genuine:  50 %\n",
      "likelihood forged:  50 %\n",
      "truth  0\n",
      "-------\n",
      "[0 0 1 1 1 1 1 1 1 0 1 1]\n",
      "likelihood genuine:  75 %\n",
      "likelihood forged:  25 %\n",
      "truth  1\n",
      "-------\n",
      "[1 0 0 0 0 0 0 0 0 0 1 0]\n",
      "likelihood genuine:  17 %\n",
      "likelihood forged:  83 %\n",
      "truth  0\n",
      "-------\n",
      "[0 0 0 0 0 0 0 0 0 0 0 0]\n",
      "likelihood genuine:  0 %\n",
      "likelihood forged:  100 %\n",
      "truth  0\n",
      "-------\n",
      "[1 1 0 1 1 1 1 1 1 1 1 1]\n",
      "likelihood genuine:  92 %\n",
      "likelihood forged:  8 %\n",
      "truth  1\n",
      "-------\n",
      "[1 1 0 0 0 1 0 0 0 1 0 0]\n",
      "likelihood genuine:  33 %\n",
      "likelihood forged:  67 %\n",
      "truth  0\n"
     ]
    }
   ],
   "source": [
    "results2 = []\n",
    "for t in test2:\n",
    "    print('-------')\n",
    "    # res1 = sgd_clf.predict(t[1])\n",
    "    res = clf.predict(t[1])\n",
    "    # res = np.hstack((res1, res2))\n",
    "    print(res)\n",
    "    sum = np.sum(res)\n",
    "    results2.append([sum, len(res), int(t[2]), sum/len(res)])\n",
    "    print('likelihood genuine: ', round(sum/len(res) * 100),'%')\n",
    "    print('likelihood forged: ', round((len(res)-sum)/len(res) * 100),'%')\n",
    "    print(\"truth \", int(t[2]))"
   ],
   "metadata": {
    "collapsed": false,
    "pycharm": {
     "name": "#%%\n"
    }
   }
  },
  {
   "cell_type": "code",
   "execution_count": 28,
   "outputs": [
    {
     "data": {
      "text/plain": "[[1, 12, 0, 0.08333333333333333],\n [9, 12, 1, 0.75],\n [5, 12, 0, 0.4166666666666667],\n [3, 12, 1, 0.25],\n [5, 12, 1, 0.4166666666666667],\n [7, 12, 0, 0.5833333333333334],\n [6, 12, 0, 0.5],\n [5, 12, 1, 0.4166666666666667],\n [9, 12, 1, 0.75],\n [10, 12, 1, 0.8333333333333334],\n [6, 12, 1, 0.5],\n [9, 12, 0, 0.75],\n [3, 12, 1, 0.25],\n [8, 12, 0, 0.6666666666666666],\n [4, 12, 0, 0.3333333333333333],\n [6, 12, 1, 0.5],\n [10, 12, 1, 0.8333333333333334],\n [4, 12, 0, 0.3333333333333333],\n [6, 12, 0, 0.5],\n [9, 12, 1, 0.75],\n [2, 12, 0, 0.16666666666666666],\n [0, 12, 0, 0.0],\n [11, 12, 1, 0.9166666666666666],\n [4, 12, 0, 0.3333333333333333]]"
     },
     "execution_count": 28,
     "metadata": {},
     "output_type": "execute_result"
    }
   ],
   "source": [
    "results2"
   ],
   "metadata": {
    "collapsed": false,
    "pycharm": {
     "name": "#%%\n"
    }
   }
  },
  {
   "cell_type": "code",
   "execution_count": 37,
   "outputs": [
    {
     "name": "stdout",
     "output_type": "stream",
     "text": [
      "test_table_63.npy\n",
      "test_table_62.npy\n",
      "test_table_60.npy\n",
      "test_table_61.npy\n",
      "test_table_59.npy\n",
      "test_table_58.npy\n",
      "test_table_14.npy\n",
      "test_table_15.npy\n",
      "test_table_3.npy\n",
      "test_table_16.npy\n",
      "test_table_6.npy\n",
      "test_table_13.npy\n",
      "test_table_7.npy\n",
      "test_table_5.npy\n",
      "test_table_4.npy\n",
      "test_table_35.npy\n",
      "test_table_34.npy\n",
      "test_table_8.npy\n",
      "test_table_22.npy\n",
      "test_table_23.npy\n",
      "test_table_27.npy\n",
      "test_table_32.npy\n",
      "test_table_24.npy\n",
      "test_table_30.npy\n",
      "test_table_31.npy\n",
      "test_table_25.npy\n",
      "test_table_19.npy\n",
      "test_table_42.npy\n",
      "test_table_43.npy\n",
      "test_table_41.npy\n",
      "test_table_68.npy\n",
      "test_table_50.npy\n",
      "test_table_44.npy\n",
      "test_table_51.npy\n",
      "test_table_53.npy\n",
      "test_table_52.npy\n"
     ]
    }
   ],
   "source": [
    "tests = []\n",
    "for file in os.listdir('testing'):\n",
    "    if file.startswith('test_table_'):\n",
    "        print(file)\n",
    "        tests.append(np.load('testing/'+file, allow_pickle=True))\n",
    "\n"
   ],
   "metadata": {
    "collapsed": false,
    "pycharm": {
     "name": "#%%\n"
    }
   }
  }
 ],
 "metadata": {
  "kernelspec": {
   "display_name": "Python 3",
   "language": "python",
   "name": "python3"
  },
  "language_info": {
   "codemirror_mode": {
    "name": "ipython",
    "version": 2
   },
   "file_extension": ".py",
   "mimetype": "text/x-python",
   "name": "python",
   "nbconvert_exporter": "python",
   "pygments_lexer": "ipython2",
   "version": "2.7.6"
  }
 },
 "nbformat": 4,
 "nbformat_minor": 0
}